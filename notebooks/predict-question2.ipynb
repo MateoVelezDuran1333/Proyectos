{
 "cells": [
  {
   "cell_type": "markdown",
   "id": "e989b978",
   "metadata": {},
   "source": [
    "# Predict Questions Stack-Overflow"
   ]
  },
  {
   "cell_type": "markdown",
   "id": "9987e45c",
   "metadata": {},
   "source": [
    "## 1. Import Libraries"
   ]
  },
  {
   "cell_type": "code",
   "execution_count": 1,
   "id": "4543008f",
   "metadata": {},
   "outputs": [],
   "source": [
    "import pandas as pd\n",
    "import numpy as np\n",
    "import matplotlib.pyplot as plt\n",
    "import seaborn as sns"
   ]
  },
  {
   "cell_type": "markdown",
   "id": "feea1d96",
   "metadata": {},
   "source": [
    "## 2. Loading Data"
   ]
  },
  {
   "cell_type": "code",
   "execution_count": 2,
   "id": "941a041e",
   "metadata": {},
   "outputs": [],
   "source": [
    "df = pd.read_csv('./raw-data/train-sample.csv')"
   ]
  },
  {
   "cell_type": "markdown",
   "id": "ff3f272a",
   "metadata": {},
   "source": [
    "## 3. Data Exploratory Analisis"
   ]
  },
  {
   "cell_type": "code",
   "execution_count": 3,
   "id": "a4394a39",
   "metadata": {},
   "outputs": [
    {
     "data": {
      "text/plain": [
       "(140272, 15)"
      ]
     },
     "execution_count": 3,
     "metadata": {},
     "output_type": "execute_result"
    }
   ],
   "source": [
    "df.shape"
   ]
  },
  {
   "cell_type": "code",
   "execution_count": 5,
   "id": "2d1bba0e",
   "metadata": {},
   "outputs": [
    {
     "data": {
      "text/html": [
       "<div>\n",
       "<style scoped>\n",
       "    .dataframe tbody tr th:only-of-type {\n",
       "        vertical-align: middle;\n",
       "    }\n",
       "\n",
       "    .dataframe tbody tr th {\n",
       "        vertical-align: top;\n",
       "    }\n",
       "\n",
       "    .dataframe thead th {\n",
       "        text-align: right;\n",
       "    }\n",
       "</style>\n",
       "<table border=\"1\" class=\"dataframe\">\n",
       "  <thead>\n",
       "    <tr style=\"text-align: right;\">\n",
       "      <th></th>\n",
       "      <th>PostId</th>\n",
       "      <th>PostCreationDate</th>\n",
       "      <th>OwnerUserId</th>\n",
       "      <th>OwnerCreationDate</th>\n",
       "      <th>ReputationAtPostCreation</th>\n",
       "      <th>OwnerUndeletedAnswerCountAtPostTime</th>\n",
       "      <th>Title</th>\n",
       "      <th>BodyMarkdown</th>\n",
       "      <th>Tag1</th>\n",
       "      <th>Tag2</th>\n",
       "      <th>Tag3</th>\n",
       "      <th>Tag4</th>\n",
       "      <th>Tag5</th>\n",
       "      <th>PostClosedDate</th>\n",
       "      <th>OpenStatus</th>\n",
       "    </tr>\n",
       "  </thead>\n",
       "  <tbody>\n",
       "    <tr>\n",
       "      <th>0</th>\n",
       "      <td>6046168</td>\n",
       "      <td>05/18/2011 14:14:05</td>\n",
       "      <td>543315</td>\n",
       "      <td>09/17/2010 10:15:06</td>\n",
       "      <td>1</td>\n",
       "      <td>2</td>\n",
       "      <td>For Mongodb is it better to reference an objec...</td>\n",
       "      <td>I am building a corpus of indexed sentences in...</td>\n",
       "      <td>mongodb</td>\n",
       "      <td>NaN</td>\n",
       "      <td>NaN</td>\n",
       "      <td>NaN</td>\n",
       "      <td>NaN</td>\n",
       "      <td>NaN</td>\n",
       "      <td>open</td>\n",
       "    </tr>\n",
       "    <tr>\n",
       "      <th>1</th>\n",
       "      <td>4873911</td>\n",
       "      <td>02/02/2011 11:30:10</td>\n",
       "      <td>465076</td>\n",
       "      <td>10/03/2010 09:30:58</td>\n",
       "      <td>192</td>\n",
       "      <td>24</td>\n",
       "      <td>How to insert schemalocation in a xml document...</td>\n",
       "      <td>i create a xml document with JAXP and search a...</td>\n",
       "      <td>dom</td>\n",
       "      <td>xsd</td>\n",
       "      <td>jaxp</td>\n",
       "      <td>NaN</td>\n",
       "      <td>NaN</td>\n",
       "      <td>NaN</td>\n",
       "      <td>open</td>\n",
       "    </tr>\n",
       "    <tr>\n",
       "      <th>2</th>\n",
       "      <td>3311559</td>\n",
       "      <td>07/22/2010 17:21:54</td>\n",
       "      <td>406143</td>\n",
       "      <td>07/22/2010 16:58:20</td>\n",
       "      <td>1</td>\n",
       "      <td>0</td>\n",
       "      <td>Too many lookup tables</td>\n",
       "      <td>What are the adverse effects of having too man...</td>\n",
       "      <td>sql-server</td>\n",
       "      <td>database-design</td>\n",
       "      <td>enums</td>\n",
       "      <td>NaN</td>\n",
       "      <td>NaN</td>\n",
       "      <td>NaN</td>\n",
       "      <td>open</td>\n",
       "    </tr>\n",
       "    <tr>\n",
       "      <th>3</th>\n",
       "      <td>9990413</td>\n",
       "      <td>04/03/2012 09:18:39</td>\n",
       "      <td>851755</td>\n",
       "      <td>07/19/2011 10:22:40</td>\n",
       "      <td>4</td>\n",
       "      <td>1</td>\n",
       "      <td>What is this PHP code in VB.net</td>\n",
       "      <td>I am looking for the vb.net equivalent of this...</td>\n",
       "      <td>php</td>\n",
       "      <td>vb.net</td>\n",
       "      <td>NaN</td>\n",
       "      <td>NaN</td>\n",
       "      <td>NaN</td>\n",
       "      <td>04/15/2012 21:12:48</td>\n",
       "      <td>too localized</td>\n",
       "    </tr>\n",
       "    <tr>\n",
       "      <th>4</th>\n",
       "      <td>10421966</td>\n",
       "      <td>05/02/2012 21:25:01</td>\n",
       "      <td>603588</td>\n",
       "      <td>02/04/2011 18:05:34</td>\n",
       "      <td>334</td>\n",
       "      <td>14</td>\n",
       "      <td>Spring-Data mongodb querying multiple classes ...</td>\n",
       "      <td>With Spring-Data, you can use the @Document an...</td>\n",
       "      <td>mongodb</td>\n",
       "      <td>spring-data</td>\n",
       "      <td>NaN</td>\n",
       "      <td>NaN</td>\n",
       "      <td>NaN</td>\n",
       "      <td>NaN</td>\n",
       "      <td>open</td>\n",
       "    </tr>\n",
       "  </tbody>\n",
       "</table>\n",
       "</div>"
      ],
      "text/plain": [
       "     PostId     PostCreationDate  OwnerUserId    OwnerCreationDate  \\\n",
       "0   6046168  05/18/2011 14:14:05       543315  09/17/2010 10:15:06   \n",
       "1   4873911  02/02/2011 11:30:10       465076  10/03/2010 09:30:58   \n",
       "2   3311559  07/22/2010 17:21:54       406143  07/22/2010 16:58:20   \n",
       "3   9990413  04/03/2012 09:18:39       851755  07/19/2011 10:22:40   \n",
       "4  10421966  05/02/2012 21:25:01       603588  02/04/2011 18:05:34   \n",
       "\n",
       "   ReputationAtPostCreation  OwnerUndeletedAnswerCountAtPostTime  \\\n",
       "0                         1                                    2   \n",
       "1                       192                                   24   \n",
       "2                         1                                    0   \n",
       "3                         4                                    1   \n",
       "4                       334                                   14   \n",
       "\n",
       "                                               Title  \\\n",
       "0  For Mongodb is it better to reference an objec...   \n",
       "1  How to insert schemalocation in a xml document...   \n",
       "2                            Too many lookup tables    \n",
       "3                    What is this PHP code in VB.net   \n",
       "4  Spring-Data mongodb querying multiple classes ...   \n",
       "\n",
       "                                        BodyMarkdown        Tag1  \\\n",
       "0  I am building a corpus of indexed sentences in...     mongodb   \n",
       "1  i create a xml document with JAXP and search a...         dom   \n",
       "2  What are the adverse effects of having too man...  sql-server   \n",
       "3  I am looking for the vb.net equivalent of this...         php   \n",
       "4  With Spring-Data, you can use the @Document an...     mongodb   \n",
       "\n",
       "              Tag2   Tag3 Tag4 Tag5       PostClosedDate     OpenStatus  \n",
       "0              NaN    NaN  NaN  NaN                  NaN           open  \n",
       "1              xsd   jaxp  NaN  NaN                  NaN           open  \n",
       "2  database-design  enums  NaN  NaN                  NaN           open  \n",
       "3           vb.net    NaN  NaN  NaN  04/15/2012 21:12:48  too localized  \n",
       "4      spring-data    NaN  NaN  NaN                  NaN           open  "
      ]
     },
     "execution_count": 5,
     "metadata": {},
     "output_type": "execute_result"
    }
   ],
   "source": [
    "df.head()"
   ]
  },
  {
   "cell_type": "code",
   "execution_count": 4,
   "id": "be1a62d6",
   "metadata": {},
   "outputs": [
    {
     "name": "stdout",
     "output_type": "stream",
     "text": [
      "<class 'pandas.core.frame.DataFrame'>\n",
      "RangeIndex: 140272 entries, 0 to 140271\n",
      "Data columns (total 15 columns):\n",
      " #   Column                               Non-Null Count   Dtype \n",
      "---  ------                               --------------   ----- \n",
      " 0   PostId                               140272 non-null  int64 \n",
      " 1   PostCreationDate                     140272 non-null  object\n",
      " 2   OwnerUserId                          140272 non-null  int64 \n",
      " 3   OwnerCreationDate                    140272 non-null  object\n",
      " 4   ReputationAtPostCreation             140272 non-null  int64 \n",
      " 5   OwnerUndeletedAnswerCountAtPostTime  140272 non-null  int64 \n",
      " 6   Title                                140272 non-null  object\n",
      " 7   BodyMarkdown                         140272 non-null  object\n",
      " 8   Tag1                                 140262 non-null  object\n",
      " 9   Tag2                                 113021 non-null  object\n",
      " 10  Tag3                                 75914 non-null   object\n",
      " 11  Tag4                                 39650 non-null   object\n",
      " 12  Tag5                                 15714 non-null   object\n",
      " 13  PostClosedDate                       70136 non-null   object\n",
      " 14  OpenStatus                           140272 non-null  object\n",
      "dtypes: int64(4), object(11)\n",
      "memory usage: 16.1+ MB\n"
     ]
    }
   ],
   "source": [
    "df.info()"
   ]
  },
  {
   "cell_type": "code",
   "execution_count": 6,
   "id": "61da6eaf",
   "metadata": {},
   "outputs": [
    {
     "data": {
      "text/plain": [
       "PostId                                      0\n",
       "PostCreationDate                            0\n",
       "OwnerUserId                                 0\n",
       "OwnerCreationDate                           0\n",
       "ReputationAtPostCreation                    0\n",
       "OwnerUndeletedAnswerCountAtPostTime         0\n",
       "Title                                       0\n",
       "BodyMarkdown                                0\n",
       "Tag1                                       10\n",
       "Tag2                                    27251\n",
       "Tag3                                    64358\n",
       "Tag4                                   100622\n",
       "Tag5                                   124558\n",
       "PostClosedDate                          70136\n",
       "OpenStatus                                  0\n",
       "dtype: int64"
      ]
     },
     "execution_count": 6,
     "metadata": {},
     "output_type": "execute_result"
    }
   ],
   "source": [
    "df.isna().sum()"
   ]
  },
  {
   "cell_type": "code",
   "execution_count": 15,
   "id": "ca8cdcfa",
   "metadata": {},
   "outputs": [
    {
     "data": {
      "image/png": "[encoded data removed]",
      "text/plain": [
       "<Figure size 1000x600 with 1 Axes>"
      ]
     },
     "metadata": {},
     "output_type": "display_data"
    }
   ],
   "source": [
    "#Check for missing values\n",
    "missin_values = df.isnull()\n",
    "\n",
    "plt.figure(figsize=(10,6))\n",
    "sns.heatmap(missin_values, cbar=False, cmap='viridis')\n",
    "plt.title('Missing Values HeatMap')\n",
    "plt.show()"
   ]
  },
  {
   "cell_type": "code",
   "execution_count": 3,
   "id": "f80f5526",
   "metadata": {},
   "outputs": [],
   "source": [
    "df_temp = df[['Title', 'BodyMarkdown', 'Tag1', 'OpenStatus']].copy()"
   ]
  },
  {
   "cell_type": "code",
   "execution_count": 12,
   "id": "d33e9acd",
   "metadata": {},
   "outputs": [
    {
     "data": {
      "text/html": [
       "<div>\n",
       "<style scoped>\n",
       "    .dataframe tbody tr th:only-of-type {\n",
       "        vertical-align: middle;\n",
       "    }\n",
       "\n",
       "    .dataframe tbody tr th {\n",
       "        vertical-align: top;\n",
       "    }\n",
       "\n",
       "    .dataframe thead th {\n",
       "        text-align: right;\n",
       "    }\n",
       "</style>\n",
       "<table border=\"1\" class=\"dataframe\">\n",
       "  <thead>\n",
       "    <tr style=\"text-align: right;\">\n",
       "      <th></th>\n",
       "      <th>Title</th>\n",
       "      <th>BodyMarkdown</th>\n",
       "      <th>Tag1</th>\n",
       "      <th>OpenStatus</th>\n",
       "    </tr>\n",
       "  </thead>\n",
       "  <tbody>\n",
       "    <tr>\n",
       "      <th>0</th>\n",
       "      <td>For Mongodb is it better to reference an objec...</td>\n",
       "      <td>I am building a corpus of indexed sentences in...</td>\n",
       "      <td>mongodb</td>\n",
       "      <td>open</td>\n",
       "    </tr>\n",
       "    <tr>\n",
       "      <th>1</th>\n",
       "      <td>How to insert schemalocation in a xml document...</td>\n",
       "      <td>i create a xml document with JAXP and search a...</td>\n",
       "      <td>dom</td>\n",
       "      <td>open</td>\n",
       "    </tr>\n",
       "    <tr>\n",
       "      <th>2</th>\n",
       "      <td>Too many lookup tables</td>\n",
       "      <td>What are the adverse effects of having too man...</td>\n",
       "      <td>sql-server</td>\n",
       "      <td>open</td>\n",
       "    </tr>\n",
       "    <tr>\n",
       "      <th>3</th>\n",
       "      <td>What is this PHP code in VB.net</td>\n",
       "      <td>I am looking for the vb.net equivalent of this...</td>\n",
       "      <td>php</td>\n",
       "      <td>too localized</td>\n",
       "    </tr>\n",
       "    <tr>\n",
       "      <th>4</th>\n",
       "      <td>Spring-Data mongodb querying multiple classes ...</td>\n",
       "      <td>With Spring-Data, you can use the @Document an...</td>\n",
       "      <td>mongodb</td>\n",
       "      <td>open</td>\n",
       "    </tr>\n",
       "  </tbody>\n",
       "</table>\n",
       "</div>"
      ],
      "text/plain": [
       "                                               Title  \\\n",
       "0  For Mongodb is it better to reference an objec...   \n",
       "1  How to insert schemalocation in a xml document...   \n",
       "2                            Too many lookup tables    \n",
       "3                    What is this PHP code in VB.net   \n",
       "4  Spring-Data mongodb querying multiple classes ...   \n",
       "\n",
       "                                        BodyMarkdown        Tag1  \\\n",
       "0  I am building a corpus of indexed sentences in...     mongodb   \n",
       "1  i create a xml document with JAXP and search a...         dom   \n",
       "2  What are the adverse effects of having too man...  sql-server   \n",
       "3  I am looking for the vb.net equivalent of this...         php   \n",
       "4  With Spring-Data, you can use the @Document an...     mongodb   \n",
       "\n",
       "      OpenStatus  \n",
       "0           open  \n",
       "1           open  \n",
       "2           open  \n",
       "3  too localized  \n",
       "4           open  "
      ]
     },
     "execution_count": 12,
     "metadata": {},
     "output_type": "execute_result"
    }
   ],
   "source": [
    "df_temp.head()"
   ]
  },
  {
   "cell_type": "code",
   "execution_count": 11,
   "id": "8f3c3c68",
   "metadata": {},
   "outputs": [
    {
     "data": {
      "text/plain": [
       "Title           0\n",
       "BodyMarkdown    0\n",
       "Tag1            0\n",
       "OpenStatus      0\n",
       "dtype: int64"
      ]
     },
     "execution_count": 11,
     "metadata": {},
     "output_type": "execute_result"
    }
   ],
   "source": [
    "df_temp.isna().sum()"
   ]
  },
  {
   "cell_type": "code",
   "execution_count": 4,
   "id": "d1c59235",
   "metadata": {},
   "outputs": [],
   "source": [
    "df_temp.dropna(inplace=True)"
   ]
  },
  {
   "cell_type": "code",
   "execution_count": 13,
   "id": "d20ebd64",
   "metadata": {},
   "outputs": [
    {
     "data": {
      "text/plain": [
       "(140262, 4)"
      ]
     },
     "execution_count": 13,
     "metadata": {},
     "output_type": "execute_result"
    }
   ],
   "source": [
    "df_temp.shape"
   ]
  },
  {
   "cell_type": "code",
   "execution_count": 14,
   "id": "d5628ff8",
   "metadata": {},
   "outputs": [
    {
     "data": {
      "image/png": "[encoded data removed]",
      "text/plain": [
       "<Figure size 640x480 with 1 Axes>"
      ]
     },
     "metadata": {},
     "output_type": "display_data"
    }
   ],
   "source": [
    "df_temp['OpenStatus'].value_counts().plot(kind='bar', title='Class Distribution')\n",
    "plt.xlabel('Open Status')\n",
    "plt.ylabel('Count')\n",
    "plt.show()"
   ]
  },
  {
   "cell_type": "code",
   "execution_count": 16,
   "id": "29291cfb",
   "metadata": {},
   "outputs": [
    {
     "data": {
      "text/plain": [
       "array(['open', 'too localized', 'not a real question', 'off topic',\n",
       "       'not constructive'], dtype=object)"
      ]
     },
     "execution_count": 16,
     "metadata": {},
     "output_type": "execute_result"
    }
   ],
   "source": [
    "df_temp['OpenStatus'].unique()"
   ]
  },
  {
   "cell_type": "code",
   "execution_count": 5,
   "id": "bfe4b7cc",
   "metadata": {},
   "outputs": [],
   "source": [
    "classes_maping = {\n",
    "    'open' : 1,\n",
    "    'too localized' : 2,\n",
    "    'not a real question' : 3,\n",
    "    'off topic' : 4,\n",
    "    'not constructive' : 5\n",
    "}"
   ]
  },
  {
   "cell_type": "code",
   "execution_count": 6,
   "id": "a7ecd3cb",
   "metadata": {},
   "outputs": [],
   "source": [
    "df_temp['OpenStatus_Encoded'] = df_temp['OpenStatus'].map(classes_maping)"
   ]
  },
  {
   "cell_type": "code",
   "execution_count": 7,
   "id": "29110533",
   "metadata": {},
   "outputs": [
    {
     "data": {
      "text/html": [
       "<div>\n",
       "<style scoped>\n",
       "    .dataframe tbody tr th:only-of-type {\n",
       "        vertical-align: middle;\n",
       "    }\n",
       "\n",
       "    .dataframe tbody tr th {\n",
       "        vertical-align: top;\n",
       "    }\n",
       "\n",
       "    .dataframe thead th {\n",
       "        text-align: right;\n",
       "    }\n",
       "</style>\n",
       "<table border=\"1\" class=\"dataframe\">\n",
       "  <thead>\n",
       "    <tr style=\"text-align: right;\">\n",
       "      <th></th>\n",
       "      <th>Title</th>\n",
       "      <th>BodyMarkdown</th>\n",
       "      <th>Tag1</th>\n",
       "      <th>OpenStatus</th>\n",
       "      <th>OpenStatus_Encoded</th>\n",
       "    </tr>\n",
       "  </thead>\n",
       "  <tbody>\n",
       "    <tr>\n",
       "      <th>0</th>\n",
       "      <td>For Mongodb is it better to reference an objec...</td>\n",
       "      <td>I am building a corpus of indexed sentences in...</td>\n",
       "      <td>mongodb</td>\n",
       "      <td>open</td>\n",
       "      <td>1</td>\n",
       "    </tr>\n",
       "    <tr>\n",
       "      <th>1</th>\n",
       "      <td>How to insert schemalocation in a xml document...</td>\n",
       "      <td>i create a xml document with JAXP and search a...</td>\n",
       "      <td>dom</td>\n",
       "      <td>open</td>\n",
       "      <td>1</td>\n",
       "    </tr>\n",
       "    <tr>\n",
       "      <th>2</th>\n",
       "      <td>Too many lookup tables</td>\n",
       "      <td>What are the adverse effects of having too man...</td>\n",
       "      <td>sql-server</td>\n",
       "      <td>open</td>\n",
       "      <td>1</td>\n",
       "    </tr>\n",
       "    <tr>\n",
       "      <th>3</th>\n",
       "      <td>What is this PHP code in VB.net</td>\n",
       "      <td>I am looking for the vb.net equivalent of this...</td>\n",
       "      <td>php</td>\n",
       "      <td>too localized</td>\n",
       "      <td>2</td>\n",
       "    </tr>\n",
       "    <tr>\n",
       "      <th>4</th>\n",
       "      <td>Spring-Data mongodb querying multiple classes ...</td>\n",
       "      <td>With Spring-Data, you can use the @Document an...</td>\n",
       "      <td>mongodb</td>\n",
       "      <td>open</td>\n",
       "      <td>1</td>\n",
       "    </tr>\n",
       "  </tbody>\n",
       "</table>\n",
       "</div>"
      ],
      "text/plain": [
       "                                               Title  \\\n",
       "0  For Mongodb is it better to reference an objec...   \n",
       "1  How to insert schemalocation in a xml document...   \n",
       "2                            Too many lookup tables    \n",
       "3                    What is this PHP code in VB.net   \n",
       "4  Spring-Data mongodb querying multiple classes ...   \n",
       "\n",
       "                                        BodyMarkdown        Tag1  \\\n",
       "0  I am building a corpus of indexed sentences in...     mongodb   \n",
       "1  i create a xml document with JAXP and search a...         dom   \n",
       "2  What are the adverse effects of having too man...  sql-server   \n",
       "3  I am looking for the vb.net equivalent of this...         php   \n",
       "4  With Spring-Data, you can use the @Document an...     mongodb   \n",
       "\n",
       "      OpenStatus  OpenStatus_Encoded  \n",
       "0           open                   1  \n",
       "1           open                   1  \n",
       "2           open                   1  \n",
       "3  too localized                   2  \n",
       "4           open                   1  "
      ]
     },
     "execution_count": 7,
     "metadata": {},
     "output_type": "execute_result"
    }
   ],
   "source": [
    "df_temp.head()"
   ]
  },
  {
   "cell_type": "markdown",
   "id": "63f6e4e2",
   "metadata": {},
   "source": [
    "## Hacer Under Sampling"
   ]
  },
  {
   "cell_type": "code",
   "execution_count": 8,
   "id": "1134bd82",
   "metadata": {},
   "outputs": [],
   "source": [
    "from imblearn.under_sampling import RandomUnderSampler"
   ]
  },
  {
   "cell_type": "code",
   "execution_count": 9,
   "id": "d9158f18",
   "metadata": {},
   "outputs": [],
   "source": [
    "X = df_temp.drop('OpenStatus_Encoded', axis=1)\n",
    "y = df_temp['OpenStatus_Encoded']"
   ]
  },
  {
   "cell_type": "code",
   "execution_count": 10,
   "id": "d2435ce8",
   "metadata": {},
   "outputs": [],
   "source": [
    "rus = RandomUnderSampler(random_state=42)"
   ]
  },
  {
   "cell_type": "code",
   "execution_count": 11,
   "id": "dc1f39aa",
   "metadata": {},
   "outputs": [],
   "source": [
    "X_resampled, y_resampled = rus.fit_resample(X, y)\n",
    "\n",
    "df_resampled = pd.concat([X_resampled, y_resampled], axis=1)"
   ]
  },
  {
   "cell_type": "code",
   "execution_count": 12,
   "id": "fdea853f",
   "metadata": {},
   "outputs": [
    {
     "data": {
      "image/png": "[encoded data removed]",
      "text/plain": [
       "<Figure size 640x480 with 1 Axes>"
      ]
     },
     "metadata": {},
     "output_type": "display_data"
    }
   ],
   "source": [
    "df_resampled['OpenStatus'].value_counts().plot(kind='bar', title='Class Distribution')\n",
    "plt.xlabel('Open Status')\n",
    "plt.ylabel('Count')\n",
    "plt.show()"
   ]
  },
  {
   "cell_type": "code",
   "execution_count": 13,
   "id": "52cea1b0",
   "metadata": {},
   "outputs": [
    {
     "data": {
      "text/html": [
       "<div>\n",
       "<style scoped>\n",
       "    .dataframe tbody tr th:only-of-type {\n",
       "        vertical-align: middle;\n",
       "    }\n",
       "\n",
       "    .dataframe tbody tr th {\n",
       "        vertical-align: top;\n",
       "    }\n",
       "\n",
       "    .dataframe thead th {\n",
       "        text-align: right;\n",
       "    }\n",
       "</style>\n",
       "<table border=\"1\" class=\"dataframe\">\n",
       "  <thead>\n",
       "    <tr style=\"text-align: right;\">\n",
       "      <th></th>\n",
       "      <th>Title</th>\n",
       "      <th>BodyMarkdown</th>\n",
       "      <th>Tag1</th>\n",
       "      <th>OpenStatus</th>\n",
       "      <th>OpenStatus_Encoded</th>\n",
       "    </tr>\n",
       "  </thead>\n",
       "  <tbody>\n",
       "    <tr>\n",
       "      <th>76836</th>\n",
       "      <td>how to create a collection with O(1) complexity</td>\n",
       "      <td>i want to create a data structure or collentio...</td>\n",
       "      <td>java</td>\n",
       "      <td>open</td>\n",
       "      <td>1</td>\n",
       "    </tr>\n",
       "    <tr>\n",
       "      <th>94872</th>\n",
       "      <td>How to use a \"section image\" addable by a user</td>\n",
       "      <td>I need to setup a \"section image\" addable by a...</td>\n",
       "      <td>plone</td>\n",
       "      <td>open</td>\n",
       "      <td>1</td>\n",
       "    </tr>\n",
       "    <tr>\n",
       "      <th>34186</th>\n",
       "      <td>Cannot find Izpack 'src' folder</td>\n",
       "      <td>I am trying to get the source for the  built i...</td>\n",
       "      <td>java</td>\n",
       "      <td>open</td>\n",
       "      <td>1</td>\n",
       "    </tr>\n",
       "    <tr>\n",
       "      <th>19400</th>\n",
       "      <td>How to add multiple menu items with the same t...</td>\n",
       "      <td>As docs say it's impossible to add two menu it...</td>\n",
       "      <td>cocoa</td>\n",
       "      <td>open</td>\n",
       "      <td>1</td>\n",
       "    </tr>\n",
       "    <tr>\n",
       "      <th>93636</th>\n",
       "      <td>The type or namespace &lt;blah&gt; does not exist...</td>\n",
       "      <td>Ok, I have had this one a million times before...</td>\n",
       "      <td>c#</td>\n",
       "      <td>open</td>\n",
       "      <td>1</td>\n",
       "    </tr>\n",
       "  </tbody>\n",
       "</table>\n",
       "</div>"
      ],
      "text/plain": [
       "                                                   Title  \\\n",
       "76836    how to create a collection with O(1) complexity   \n",
       "94872     How to use a \"section image\" addable by a user   \n",
       "34186                    Cannot find Izpack 'src' folder   \n",
       "19400  How to add multiple menu items with the same t...   \n",
       "93636     The type or namespace <blah> does not exist...   \n",
       "\n",
       "                                            BodyMarkdown   Tag1 OpenStatus  \\\n",
       "76836  i want to create a data structure or collentio...   java       open   \n",
       "94872  I need to setup a \"section image\" addable by a...  plone       open   \n",
       "34186  I am trying to get the source for the  built i...   java       open   \n",
       "19400  As docs say it's impossible to add two menu it...  cocoa       open   \n",
       "93636  Ok, I have had this one a million times before...     c#       open   \n",
       "\n",
       "       OpenStatus_Encoded  \n",
       "76836                   1  \n",
       "94872                   1  \n",
       "34186                   1  \n",
       "19400                   1  \n",
       "93636                   1  "
      ]
     },
     "execution_count": 13,
     "metadata": {},
     "output_type": "execute_result"
    }
   ],
   "source": [
    "df_resampled.head()"
   ]
  },
  {
   "cell_type": "code",
   "execution_count": 14,
   "id": "b485079d",
   "metadata": {},
   "outputs": [],
   "source": [
    "df_resampled.to_csv(\"archivo.csv\", index=False)"
   ]
  },
  {
   "cell_type": "code",
   "execution_count": 3,
   "id": "6dd7183b",
   "metadata": {},
   "outputs": [
    {
     "data": {
      "text/html": [
       "<div>\n",
       "<style scoped>\n",
       "    .dataframe tbody tr th:only-of-type {\n",
       "        vertical-align: middle;\n",
       "    }\n",
       "\n",
       "    .dataframe tbody tr th {\n",
       "        vertical-align: top;\n",
       "    }\n",
       "\n",
       "    .dataframe thead th {\n",
       "        text-align: right;\n",
       "    }\n",
       "</style>\n",
       "<table border=\"1\" class=\"dataframe\">\n",
       "  <thead>\n",
       "    <tr style=\"text-align: right;\">\n",
       "      <th></th>\n",
       "      <th>Title</th>\n",
       "      <th>BodyMarkdown</th>\n",
       "      <th>Tag1</th>\n",
       "      <th>OpenStatus</th>\n",
       "      <th>OpenStatus_Encoded</th>\n",
       "    </tr>\n",
       "  </thead>\n",
       "  <tbody>\n",
       "    <tr>\n",
       "      <th>0</th>\n",
       "      <td>how to create a collection with O(1) complexity</td>\n",
       "      <td>i want to create a data structure or collentio...</td>\n",
       "      <td>java</td>\n",
       "      <td>open</td>\n",
       "      <td>1</td>\n",
       "    </tr>\n",
       "    <tr>\n",
       "      <th>1</th>\n",
       "      <td>How to use a \"section image\" addable by a user</td>\n",
       "      <td>I need to setup a \"section image\" addable by a...</td>\n",
       "      <td>plone</td>\n",
       "      <td>open</td>\n",
       "      <td>1</td>\n",
       "    </tr>\n",
       "    <tr>\n",
       "      <th>2</th>\n",
       "      <td>Cannot find Izpack 'src' folder</td>\n",
       "      <td>I am trying to get the source for the  built i...</td>\n",
       "      <td>java</td>\n",
       "      <td>open</td>\n",
       "      <td>1</td>\n",
       "    </tr>\n",
       "    <tr>\n",
       "      <th>3</th>\n",
       "      <td>How to add multiple menu items with the same t...</td>\n",
       "      <td>As docs say it's impossible to add two menu it...</td>\n",
       "      <td>cocoa</td>\n",
       "      <td>open</td>\n",
       "      <td>1</td>\n",
       "    </tr>\n",
       "    <tr>\n",
       "      <th>4</th>\n",
       "      <td>The type or namespace &lt;blah&gt; does not exist...</td>\n",
       "      <td>Ok, I have had this one a million times before...</td>\n",
       "      <td>c#</td>\n",
       "      <td>open</td>\n",
       "      <td>1</td>\n",
       "    </tr>\n",
       "  </tbody>\n",
       "</table>\n",
       "</div>"
      ],
      "text/plain": [
       "                                               Title  \\\n",
       "0    how to create a collection with O(1) complexity   \n",
       "1     How to use a \"section image\" addable by a user   \n",
       "2                    Cannot find Izpack 'src' folder   \n",
       "3  How to add multiple menu items with the same t...   \n",
       "4     The type or namespace <blah> does not exist...   \n",
       "\n",
       "                                        BodyMarkdown   Tag1 OpenStatus  \\\n",
       "0  i want to create a data structure or collentio...   java       open   \n",
       "1  I need to setup a \"section image\" addable by a...  plone       open   \n",
       "2  I am trying to get the source for the  built i...   java       open   \n",
       "3  As docs say it's impossible to add two menu it...  cocoa       open   \n",
       "4  Ok, I have had this one a million times before...     c#       open   \n",
       "\n",
       "   OpenStatus_Encoded  \n",
       "0                   1  \n",
       "1                   1  \n",
       "2                   1  \n",
       "3                   1  \n",
       "4                   1  "
      ]
     },
     "execution_count": 3,
     "metadata": {},
     "output_type": "execute_result"
    }
   ],
   "source": [
    "df_prueba = pd.read_csv(\"archivo.csv\")\n",
    "df_prueba.head()"
   ]
  },
  {
   "cell_type": "markdown",
   "id": "d4bc0964",
   "metadata": {},
   "source": [
    "### Limpieza de Datos"
   ]
  },
  {
   "cell_type": "code",
   "execution_count": 6,
   "id": "1d207d39",
   "metadata": {},
   "outputs": [
    {
     "data": {
      "text/plain": [
       "Title                 0\n",
       "BodyMarkdown          0\n",
       "Tag1                  0\n",
       "OpenStatus            0\n",
       "OpenStatus_Encoded    0\n",
       "dtype: int64"
      ]
     },
     "execution_count": 6,
     "metadata": {},
     "output_type": "execute_result"
    }
   ],
   "source": [
    "df_prueba.isna().sum()"
   ]
  },
  {
   "cell_type": "code",
   "execution_count": 7,
   "id": "9f2a2636",
   "metadata": {},
   "outputs": [
    {
     "data": {
      "text/plain": [
       "array(['open', 'too localized', 'not a real question', 'off topic',\n",
       "       'not constructive'], dtype=object)"
      ]
     },
     "execution_count": 7,
     "metadata": {},
     "output_type": "execute_result"
    }
   ],
   "source": [
    "df_prueba['OpenStatus'].unique()"
   ]
  },
  {
   "cell_type": "code",
   "execution_count": 6,
   "id": "23dcb3fd",
   "metadata": {},
   "outputs": [],
   "source": [
    "from preprocess import PreprocessData\n",
    "from cleaners import CleanerDataProcessor\n",
    "\n",
    "# 1. Preprocesar datos\n",
    "preprocessor = PreprocessData(text_columns=[\"Title\", \"BodyMarkdown\"], label_column=\"OpenStatus\")\n",
    "X, y = preprocessor.transform(\"archivo.csv\")\n",
    "\n",
    "# Usar solo una muestra (para no explotar la RAM/CPU)\n",
    "X = X[:10000]\n",
    "y = y[:10000]\n"
   ]
  },
  {
   "cell_type": "code",
   "execution_count": 8,
   "id": "b0f7226f",
   "metadata": {},
   "outputs": [
    {
     "data": {
      "text/plain": [
       "(30785, 5)"
      ]
     },
     "execution_count": 8,
     "metadata": {},
     "output_type": "execute_result"
    }
   ],
   "source": [
    "df_prueba.shape"
   ]
  },
  {
   "cell_type": "code",
   "execution_count": 7,
   "id": "3d1860b1",
   "metadata": {},
   "outputs": [
    {
     "name": "stdout",
     "output_type": "stream",
     "text": [
      "1    6157\n",
      "2    3843\n",
      "Name: count, dtype: int64\n"
     ]
    }
   ],
   "source": [
    "print(pd.Series(y).value_counts())"
   ]
  },
  {
   "cell_type": "code",
   "execution_count": 10,
   "id": "a91694ba",
   "metadata": {},
   "outputs": [],
   "source": [
    "import re\n",
    "import string"
   ]
  },
  {
   "cell_type": "code",
   "execution_count": 30,
   "id": "a6ad1888",
   "metadata": {},
   "outputs": [],
   "source": [
    "def clean(text):\n",
    "#Convertir a minusculas\n",
    "  text = str(text).lower()\n",
    "\n",
    "  #Eliminar textos entre corchetes (Ej: etiquetas)\n",
    "  text = re.sub(r'\\[.*?\\]', '', text)\n",
    "\n",
    "  #Eliminar URLS\n",
    "  text = re.sub(r'https?://\\S+|www.\\.\\S', '', text)\n",
    "\n",
    "  #Eliminar etiquetas HTML\n",
    "  text = re.sub(r'<.*?>+', '', text)\n",
    "\n",
    "  #Eliminar signos de puntuacion\n",
    "  text = re.sub(r'[%s]' % re.escape(string.punctuation), '', text)\n",
    "\n",
    "  #Eliminar saltos de linea\n",
    "  text = re.sub(r'\\n', ' ', text)\n",
    "\n",
    "  #Eliminar palabras que contienen números\n",
    "  text = re.sub(r'\\w*\\d\\w*', '', text)\n",
    "\n",
    "  #Eliminar emojis y caracteres especiales (no ASCII)\n",
    "  text = re.sub(r'[^\\x00-\\x7F]+', '', text)\n",
    "\n",
    "  #Eliminar espacios extras al inicio y al final\n",
    "  text = text.strip()\n",
    "\n",
    "  return text"
   ]
  },
  {
   "cell_type": "markdown",
   "id": "d0678df1",
   "metadata": {},
   "source": [
    "# Intento de arreglar funcion clean"
   ]
  },
  {
   "cell_type": "code",
   "execution_count": 11,
   "id": "da5bc664",
   "metadata": {},
   "outputs": [],
   "source": [
    "import re\n",
    "import string\n",
    "\n",
    "def clean(text):\n",
    "    # Convertir a minúsculas\n",
    "    text = str(text).lower()\n",
    "\n",
    "    # Eliminar texto entre corchetes (etiquetas tipo [duplicate])\n",
    "    text = re.sub(r'\\[.*?\\]', '', text)\n",
    "\n",
    "    # Eliminar URLs\n",
    "    text = re.sub(r'https?://\\S+|www\\.\\S+', '', text)\n",
    "\n",
    "    # Eliminar etiquetas HTML\n",
    "    text = re.sub(r'<.*?>+', '', text)\n",
    "\n",
    "    # Eliminar puntuación, pero conservar signos útiles (ej: '?')\n",
    "    punctuation = string.punctuation.replace('?', '')\n",
    "    text = re.sub(r'[%s]' % re.escape(punctuation), '', text)\n",
    "\n",
    "    # Eliminar saltos de línea\n",
    "    text = re.sub(r'\\n', ' ', text)\n",
    "\n",
    "    # (Opcional) Eliminar palabras con números — solo si realmente molesta\n",
    "    # text = re.sub(r'\\w*\\d\\w*', '', text)\n",
    "\n",
    "    # Eliminar caracteres no ASCII (emojis, símbolos raros)\n",
    "    text = re.sub(r'[^\\x00-\\x7F]+', '', text)\n",
    "\n",
    "    # Eliminar espacios extra\n",
    "    text = text.strip()\n",
    "\n",
    "    return text\n"
   ]
  },
  {
   "cell_type": "markdown",
   "id": "c4a82fd9",
   "metadata": {},
   "source": [
    "### Lemmatizacion"
   ]
  },
  {
   "cell_type": "code",
   "execution_count": 12,
   "id": "ea247e7b",
   "metadata": {},
   "outputs": [],
   "source": [
    "import nltk\n",
    "from nltk.corpus import stopwords\n",
    "\n",
    "#nltk.download('stopwords')\n",
    "\n",
    "stop_words = set(stopwords.words('english'))"
   ]
  },
  {
   "cell_type": "code",
   "execution_count": 13,
   "id": "b119397a",
   "metadata": {},
   "outputs": [],
   "source": [
    "import spacy\n",
    "\n",
    "# !python -m spacy download en_core_web_sm\n",
    "\n",
    "nlp_en = spacy.load('en_core_web_sm')"
   ]
  },
  {
   "cell_type": "code",
   "execution_count": 14,
   "id": "17f68ba5",
   "metadata": {},
   "outputs": [],
   "source": [
    "def lemmtized_stopwords(txt):\n",
    "    clean_data = clean(txt)\n",
    "    doc_en = nlp_en(clean_data)\n",
    "    lemmatized = [token.lemma_ for token in doc_en if token.text.lower() not in stop_words]\n",
    "    return ' '.join(lemmatized).strip()"
   ]
  },
  {
   "cell_type": "code",
   "execution_count": 15,
   "id": "cf14abe9",
   "metadata": {},
   "outputs": [],
   "source": [
    "df_resampled['Text_Complete'] = df_resampled['Title'].str.cat(df_resampled['BodyMarkdown'], sep=\" \")"
   ]
  },
  {
   "cell_type": "code",
   "execution_count": 16,
   "id": "71ab1a06",
   "metadata": {},
   "outputs": [
    {
     "data": {
      "text/html": [
       "<div>\n",
       "<style scoped>\n",
       "    .dataframe tbody tr th:only-of-type {\n",
       "        vertical-align: middle;\n",
       "    }\n",
       "\n",
       "    .dataframe tbody tr th {\n",
       "        vertical-align: top;\n",
       "    }\n",
       "\n",
       "    .dataframe thead th {\n",
       "        text-align: right;\n",
       "    }\n",
       "</style>\n",
       "<table border=\"1\" class=\"dataframe\">\n",
       "  <thead>\n",
       "    <tr style=\"text-align: right;\">\n",
       "      <th></th>\n",
       "      <th>Title</th>\n",
       "      <th>BodyMarkdown</th>\n",
       "      <th>Tag1</th>\n",
       "      <th>OpenStatus</th>\n",
       "      <th>OpenStatus_Encoded</th>\n",
       "      <th>Text_Complete</th>\n",
       "    </tr>\n",
       "  </thead>\n",
       "  <tbody>\n",
       "    <tr>\n",
       "      <th>32914</th>\n",
       "      <td>Why does github offer two download methods?</td>\n",
       "      <td>Github allows you to clone a public repository...</td>\n",
       "      <td>github</td>\n",
       "      <td>open</td>\n",
       "      <td>1</td>\n",
       "      <td>Why does github offer two download methods? Gi...</td>\n",
       "    </tr>\n",
       "    <tr>\n",
       "      <th>39495</th>\n",
       "      <td>Pass variable to another view</td>\n",
       "      <td>I'm trying to set a variable in another view.\\...</td>\n",
       "      <td>iphone</td>\n",
       "      <td>open</td>\n",
       "      <td>1</td>\n",
       "      <td>Pass variable to another view I'm trying to se...</td>\n",
       "    </tr>\n",
       "    <tr>\n",
       "      <th>55479</th>\n",
       "      <td>Accessing the Direct3D device inside VMR9</td>\n",
       "      <td>I have a video decoder filter that lives insid...</td>\n",
       "      <td>video</td>\n",
       "      <td>open</td>\n",
       "      <td>1</td>\n",
       "      <td>Accessing the Direct3D device inside VMR9 I ha...</td>\n",
       "    </tr>\n",
       "    <tr>\n",
       "      <th>136136</th>\n",
       "      <td>How to crop a UIImage by selecting an area</td>\n",
       "      <td>I'm searching for a posibility to crop UIImage...</td>\n",
       "      <td>objective-c</td>\n",
       "      <td>open</td>\n",
       "      <td>1</td>\n",
       "      <td>How to crop a UIImage by selecting an area I'm...</td>\n",
       "    </tr>\n",
       "    <tr>\n",
       "      <th>118057</th>\n",
       "      <td>Collecting Data from NDFD SOAP response</td>\n",
       "      <td>I have written a small app that retrieves data...</td>\n",
       "      <td>soap</td>\n",
       "      <td>open</td>\n",
       "      <td>1</td>\n",
       "      <td>Collecting Data from NDFD SOAP response I have...</td>\n",
       "    </tr>\n",
       "  </tbody>\n",
       "</table>\n",
       "</div>"
      ],
      "text/plain": [
       "                                              Title  \\\n",
       "32914   Why does github offer two download methods?   \n",
       "39495                 Pass variable to another view   \n",
       "55479     Accessing the Direct3D device inside VMR9   \n",
       "136136   How to crop a UIImage by selecting an area   \n",
       "118057      Collecting Data from NDFD SOAP response   \n",
       "\n",
       "                                             BodyMarkdown         Tag1  \\\n",
       "32914   Github allows you to clone a public repository...       github   \n",
       "39495   I'm trying to set a variable in another view.\\...       iphone   \n",
       "55479   I have a video decoder filter that lives insid...        video   \n",
       "136136  I'm searching for a posibility to crop UIImage...  objective-c   \n",
       "118057  I have written a small app that retrieves data...         soap   \n",
       "\n",
       "       OpenStatus  OpenStatus_Encoded  \\\n",
       "32914        open                   1   \n",
       "39495        open                   1   \n",
       "55479        open                   1   \n",
       "136136       open                   1   \n",
       "118057       open                   1   \n",
       "\n",
       "                                            Text_Complete  \n",
       "32914   Why does github offer two download methods? Gi...  \n",
       "39495   Pass variable to another view I'm trying to se...  \n",
       "55479   Accessing the Direct3D device inside VMR9 I ha...  \n",
       "136136  How to crop a UIImage by selecting an area I'm...  \n",
       "118057  Collecting Data from NDFD SOAP response I have...  "
      ]
     },
     "execution_count": 16,
     "metadata": {},
     "output_type": "execute_result"
    }
   ],
   "source": [
    "df_resampled.head()"
   ]
  },
  {
   "cell_type": "code",
   "execution_count": 17,
   "id": "1c961875",
   "metadata": {},
   "outputs": [],
   "source": [
    "df_resampled['clean_text'] = df_resampled['Text_Complete'].apply(lemmtized_stopwords)"
   ]
  },
  {
   "cell_type": "code",
   "execution_count": 18,
   "id": "74f64731",
   "metadata": {},
   "outputs": [],
   "source": [
    "df_resampled.to_pickle('df_text_clean_test1.pkl')"
   ]
  },
  {
   "cell_type": "markdown",
   "id": "0c7693d9",
   "metadata": {},
   "source": [
    "## Train Test Split "
   ]
  },
  {
   "cell_type": "code",
   "execution_count": 39,
   "id": "e0b1a801",
   "metadata": {},
   "outputs": [],
   "source": [
    "from sklearn.model_selection import train_test_split"
   ]
  },
  {
   "cell_type": "code",
   "execution_count": 41,
   "id": "c763cda2",
   "metadata": {},
   "outputs": [],
   "source": [
    "X_clean = df_resampled.drop('OpenStatus_Encoded', axis=1)\n",
    "y_clean = df_resampled['OpenStatus_Encoded']"
   ]
  },
  {
   "cell_type": "code",
   "execution_count": 42,
   "id": "9af47e24",
   "metadata": {},
   "outputs": [],
   "source": [
    "X_train, X_test, y_train, y_test = train_test_split(X_clean, y_clean, test_size=0.3, random_state=42)"
   ]
  },
  {
   "cell_type": "code",
   "execution_count": 44,
   "id": "bc2ebf1e",
   "metadata": {},
   "outputs": [
    {
     "name": "stdout",
     "output_type": "stream",
     "text": [
      "(21549, 6)\n",
      "(9236, 6)\n"
     ]
    }
   ],
   "source": [
    "print(X_train.shape)\n",
    "print(X_test.shape)"
   ]
  },
  {
   "cell_type": "markdown",
   "id": "cd667ee4",
   "metadata": {},
   "source": [
    "### Bag Of Words (BOW) & TFI-DF"
   ]
  },
  {
   "cell_type": "code",
   "execution_count": 38,
   "id": "212afdc9",
   "metadata": {},
   "outputs": [],
   "source": [
    "from sklearn.feature_extraction.text import CountVectorizer, TfidfVectorizer"
   ]
  },
  {
   "cell_type": "markdown",
   "id": "964ae7d0",
   "metadata": {},
   "source": [
    "#### Bag of Words (Bow)"
   ]
  },
  {
   "cell_type": "code",
   "execution_count": 47,
   "id": "a240d6f1",
   "metadata": {},
   "outputs": [],
   "source": [
    "cnc_vec = CountVectorizer(ngram_range=(1,2), max_features=3000)\n",
    "bow_train = cnc_vec.fit_transform(X_train['clean_text'])\n",
    "bow_test = cnc_vec.transform(X_test['clean_text'])"
   ]
  },
  {
   "cell_type": "code",
   "execution_count": 48,
   "id": "100686ee",
   "metadata": {},
   "outputs": [
    {
     "name": "stdout",
     "output_type": "stream",
     "text": [
      "(21549, 3000)\n",
      "(9236, 3000)\n"
     ]
    }
   ],
   "source": [
    "print(bow_train.shape)\n",
    "print(bow_test.shape)"
   ]
  },
  {
   "cell_type": "markdown",
   "id": "e2c2d3db",
   "metadata": {},
   "source": [
    "#### TFI-DF"
   ]
  },
  {
   "cell_type": "code",
   "execution_count": 49,
   "id": "8c85afa3",
   "metadata": {},
   "outputs": [],
   "source": [
    "tfi_vec = TfidfVectorizer(ngram_range=(1,2), max_features=3000)\n",
    "tfi_train = tfi_vec.fit_transform(X_train['clean_text'])\n",
    "tfi_test = tfi_vec.transform(X_test['clean_text'])"
   ]
  },
  {
   "cell_type": "code",
   "execution_count": 50,
   "id": "22e47adc",
   "metadata": {},
   "outputs": [
    {
     "name": "stdout",
     "output_type": "stream",
     "text": [
      "(21549, 3000)\n",
      "(9236, 3000)\n"
     ]
    }
   ],
   "source": [
    "print(tfi_train.shape)\n",
    "print(tfi_test.shape)"
   ]
  },
  {
   "cell_type": "markdown",
   "id": "1152e54f",
   "metadata": {},
   "source": [
    "### Model Training"
   ]
  },
  {
   "cell_type": "code",
   "execution_count": 51,
   "id": "66597e96",
   "metadata": {},
   "outputs": [],
   "source": [
    "from sklearn.model_selection import RandomizedSearchCV"
   ]
  },
  {
   "cell_type": "code",
   "execution_count": 52,
   "id": "2cd8301c",
   "metadata": {},
   "outputs": [],
   "source": [
    "from sklearn.linear_model import LogisticRegression, SGDClassifier\n",
    "from sklearn.ensemble import RandomForestClassifier"
   ]
  },
  {
   "cell_type": "markdown",
   "id": "53c14a9c",
   "metadata": {},
   "source": [
    "## SGD Classifier"
   ]
  },
  {
   "cell_type": "code",
   "execution_count": 53,
   "id": "0af6f937",
   "metadata": {},
   "outputs": [],
   "source": [
    "SGD = SGDClassifier()"
   ]
  },
  {
   "cell_type": "markdown",
   "id": "0c48a8c3",
   "metadata": {},
   "source": [
    "### HyperPAramaters Tunning"
   ]
  },
  {
   "cell_type": "code",
   "execution_count": 54,
   "id": "ef9c027f",
   "metadata": {},
   "outputs": [],
   "source": [
    "params_SGD = {\n",
    "    'loss' : ['hinge', 'log', 'perceptron'],\n",
    "    'penalty' : ['l2', 'l1', 'elasticnet'],\n",
    "    'alpha' : [0.0001, 0.001, 0.01, 0.1, 1, 10],\n",
    "    'learning_rate' : ['constant', 'optimal']\n",
    "}"
   ]
  },
  {
   "cell_type": "code",
   "execution_count": 55,
   "id": "9639caae",
   "metadata": {},
   "outputs": [],
   "source": [
    "random_search_SGD_Classifier = RandomizedSearchCV(\n",
    "    estimator=SGD,\n",
    "    param_distributions=params_SGD,\n",
    "    n_iter=20,\n",
    "    cv = 5,\n",
    "    random_state=42\n",
    ")"
   ]
  },
  {
   "cell_type": "code",
   "execution_count": 56,
   "id": "0e4f0843",
   "metadata": {},
   "outputs": [
    {
     "data": {
      "text/plain": [
       "137541    5\n",
       "79243     1\n",
       "7624      5\n",
       "129961    3\n",
       "7911      3\n",
       "Name: OpenStatus_Encoded, dtype: int64"
      ]
     },
     "execution_count": 56,
     "metadata": {},
     "output_type": "execute_result"
    }
   ],
   "source": [
    "y_train.head()"
   ]
  },
  {
   "cell_type": "code",
   "execution_count": 19,
   "id": "5c2d4965",
   "metadata": {},
   "outputs": [
    {
     "data": {
      "text/html": [
       "<div>\n",
       "<style scoped>\n",
       "    .dataframe tbody tr th:only-of-type {\n",
       "        vertical-align: middle;\n",
       "    }\n",
       "\n",
       "    .dataframe tbody tr th {\n",
       "        vertical-align: top;\n",
       "    }\n",
       "\n",
       "    .dataframe thead th {\n",
       "        text-align: right;\n",
       "    }\n",
       "</style>\n",
       "<table border=\"1\" class=\"dataframe\">\n",
       "  <thead>\n",
       "    <tr style=\"text-align: right;\">\n",
       "      <th></th>\n",
       "      <th>Title</th>\n",
       "      <th>BodyMarkdown</th>\n",
       "      <th>Tag1</th>\n",
       "      <th>OpenStatus</th>\n",
       "      <th>OpenStatus_Encoded</th>\n",
       "      <th>Text_Complete</th>\n",
       "      <th>clean_text</th>\n",
       "    </tr>\n",
       "  </thead>\n",
       "  <tbody>\n",
       "    <tr>\n",
       "      <th>32914</th>\n",
       "      <td>Why does github offer two download methods?</td>\n",
       "      <td>Github allows you to clone a public repository...</td>\n",
       "      <td>github</td>\n",
       "      <td>open</td>\n",
       "      <td>1</td>\n",
       "      <td>Why does github offer two download methods? Gi...</td>\n",
       "      <td>github offer two download method ? github allo...</td>\n",
       "    </tr>\n",
       "    <tr>\n",
       "      <th>39495</th>\n",
       "      <td>Pass variable to another view</td>\n",
       "      <td>I'm trying to set a variable in another view.\\...</td>\n",
       "      <td>iphone</td>\n",
       "      <td>open</td>\n",
       "      <td>1</td>\n",
       "      <td>Pass variable to another view I'm trying to se...</td>\n",
       "      <td>pass variable another view try set variable an...</td>\n",
       "    </tr>\n",
       "    <tr>\n",
       "      <th>55479</th>\n",
       "      <td>Accessing the Direct3D device inside VMR9</td>\n",
       "      <td>I have a video decoder filter that lives insid...</td>\n",
       "      <td>video</td>\n",
       "      <td>open</td>\n",
       "      <td>1</td>\n",
       "      <td>Accessing the Direct3D device inside VMR9 I ha...</td>\n",
       "      <td>access direct3d device inside vmr9 video decod...</td>\n",
       "    </tr>\n",
       "    <tr>\n",
       "      <th>136136</th>\n",
       "      <td>How to crop a UIImage by selecting an area</td>\n",
       "      <td>I'm searching for a posibility to crop UIImage...</td>\n",
       "      <td>objective-c</td>\n",
       "      <td>open</td>\n",
       "      <td>1</td>\n",
       "      <td>How to crop a UIImage by selecting an area I'm...</td>\n",
       "      <td>crop uiimage select area search posibility cro...</td>\n",
       "    </tr>\n",
       "    <tr>\n",
       "      <th>118057</th>\n",
       "      <td>Collecting Data from NDFD SOAP response</td>\n",
       "      <td>I have written a small app that retrieves data...</td>\n",
       "      <td>soap</td>\n",
       "      <td>open</td>\n",
       "      <td>1</td>\n",
       "      <td>Collecting Data from NDFD SOAP response I have...</td>\n",
       "      <td>collect datum ndfd soap response write small a...</td>\n",
       "    </tr>\n",
       "  </tbody>\n",
       "</table>\n",
       "</div>"
      ],
      "text/plain": [
       "                                              Title  \\\n",
       "32914   Why does github offer two download methods?   \n",
       "39495                 Pass variable to another view   \n",
       "55479     Accessing the Direct3D device inside VMR9   \n",
       "136136   How to crop a UIImage by selecting an area   \n",
       "118057      Collecting Data from NDFD SOAP response   \n",
       "\n",
       "                                             BodyMarkdown         Tag1  \\\n",
       "32914   Github allows you to clone a public repository...       github   \n",
       "39495   I'm trying to set a variable in another view.\\...       iphone   \n",
       "55479   I have a video decoder filter that lives insid...        video   \n",
       "136136  I'm searching for a posibility to crop UIImage...  objective-c   \n",
       "118057  I have written a small app that retrieves data...         soap   \n",
       "\n",
       "       OpenStatus  OpenStatus_Encoded  \\\n",
       "32914        open                   1   \n",
       "39495        open                   1   \n",
       "55479        open                   1   \n",
       "136136       open                   1   \n",
       "118057       open                   1   \n",
       "\n",
       "                                            Text_Complete  \\\n",
       "32914   Why does github offer two download methods? Gi...   \n",
       "39495   Pass variable to another view I'm trying to se...   \n",
       "55479   Accessing the Direct3D device inside VMR9 I ha...   \n",
       "136136  How to crop a UIImage by selecting an area I'm...   \n",
       "118057  Collecting Data from NDFD SOAP response I have...   \n",
       "\n",
       "                                               clean_text  \n",
       "32914   github offer two download method ? github allo...  \n",
       "39495   pass variable another view try set variable an...  \n",
       "55479   access direct3d device inside vmr9 video decod...  \n",
       "136136  crop uiimage select area search posibility cro...  \n",
       "118057  collect datum ndfd soap response write small a...  "
      ]
     },
     "execution_count": 19,
     "metadata": {},
     "output_type": "execute_result"
    }
   ],
   "source": [
    "df_resampled.head()"
   ]
  },
  {
   "cell_type": "markdown",
   "id": "e8d5bcad",
   "metadata": {},
   "source": [
    "✅ 2. Aumenta max_iter\n",
    "\n",
    "Para evitar los warnings de convergencia, puedes subir el límite:\n",
    "\n",
    "SGDClassifier(max_iter=2000, ...)"
   ]
  },
  {
   "cell_type": "code",
   "execution_count": 20,
   "id": "2d5d5522",
   "metadata": {},
   "outputs": [],
   "source": [
    "columns = ['clean_text', 'OpenStatus_Encoded']\n",
    "df_reasmpled_clean = df_resampled[columns]"
   ]
  },
  {
   "cell_type": "code",
   "execution_count": 22,
   "id": "fec6453b",
   "metadata": {},
   "outputs": [
    {
     "data": {
      "text/html": [
       "<div>\n",
       "<style scoped>\n",
       "    .dataframe tbody tr th:only-of-type {\n",
       "        vertical-align: middle;\n",
       "    }\n",
       "\n",
       "    .dataframe tbody tr th {\n",
       "        vertical-align: top;\n",
       "    }\n",
       "\n",
       "    .dataframe thead th {\n",
       "        text-align: right;\n",
       "    }\n",
       "</style>\n",
       "<table border=\"1\" class=\"dataframe\">\n",
       "  <thead>\n",
       "    <tr style=\"text-align: right;\">\n",
       "      <th></th>\n",
       "      <th>clean_text</th>\n",
       "      <th>OpenStatus_Encoded</th>\n",
       "    </tr>\n",
       "  </thead>\n",
       "  <tbody>\n",
       "    <tr>\n",
       "      <th>20812</th>\n",
       "      <td>well practice er modeling ? develop twitter ba...</td>\n",
       "      <td>5</td>\n",
       "    </tr>\n",
       "    <tr>\n",
       "      <th>31865</th>\n",
       "      <td>light php tool serve sql datum javascript via ...</td>\n",
       "      <td>5</td>\n",
       "    </tr>\n",
       "    <tr>\n",
       "      <th>74363</th>\n",
       "      <td>exeption management need information good prac...</td>\n",
       "      <td>5</td>\n",
       "    </tr>\n",
       "    <tr>\n",
       "      <th>134586</th>\n",
       "      <td>example program realize performance gain use m...</td>\n",
       "      <td>5</td>\n",
       "    </tr>\n",
       "    <tr>\n",
       "      <th>127055</th>\n",
       "      <td>prerequisite write net web service ? new web d...</td>\n",
       "      <td>5</td>\n",
       "    </tr>\n",
       "  </tbody>\n",
       "</table>\n",
       "</div>"
      ],
      "text/plain": [
       "                                               clean_text  OpenStatus_Encoded\n",
       "20812   well practice er modeling ? develop twitter ba...                   5\n",
       "31865   light php tool serve sql datum javascript via ...                   5\n",
       "74363   exeption management need information good prac...                   5\n",
       "134586  example program realize performance gain use m...                   5\n",
       "127055  prerequisite write net web service ? new web d...                   5"
      ]
     },
     "execution_count": 22,
     "metadata": {},
     "output_type": "execute_result"
    }
   ],
   "source": [
    "df_reasmpled_clean.tail()"
   ]
  },
  {
   "cell_type": "markdown",
   "id": "ff925b36",
   "metadata": {},
   "source": [
    "## Bow training"
   ]
  },
  {
   "cell_type": "code",
   "execution_count": 57,
   "id": "174fae73",
   "metadata": {},
   "outputs": [
    {
     "name": "stderr",
     "output_type": "stream",
     "text": [
      "/home/mateo/miniconda3/envs/py3.10/lib/python3.10/site-packages/sklearn/linear_model/_stochastic_gradient.py:726: ConvergenceWarning: Maximum number of iteration reached before convergence. Consider increasing max_iter to improve the fit.\n",
      "  warnings.warn(\n",
      "/home/mateo/miniconda3/envs/py3.10/lib/python3.10/site-packages/sklearn/model_selection/_validation.py:516: FitFailedWarning: \n",
      "65 fits failed out of a total of 100.\n",
      "The score on these train-test partitions for these parameters will be set to nan.\n",
      "If these failures are not expected, you can try to debug them by setting error_score='raise'.\n",
      "\n",
      "Below are more details about the failures:\n",
      "--------------------------------------------------------------------------------\n",
      "30 fits failed with the following error:\n",
      "Traceback (most recent call last):\n",
      "  File \"/home/mateo/miniconda3/envs/py3.10/lib/python3.10/site-packages/sklearn/model_selection/_validation.py\", line 859, in _fit_and_score\n",
      "    estimator.fit(X_train, y_train, **fit_params)\n",
      "  File \"/home/mateo/miniconda3/envs/py3.10/lib/python3.10/site-packages/sklearn/base.py\", line 1358, in wrapper\n",
      "    estimator._validate_params()\n",
      "  File \"/home/mateo/miniconda3/envs/py3.10/lib/python3.10/site-packages/sklearn/base.py\", line 471, in _validate_params\n",
      "    validate_parameter_constraints(\n",
      "  File \"/home/mateo/miniconda3/envs/py3.10/lib/python3.10/site-packages/sklearn/utils/_param_validation.py\", line 98, in validate_parameter_constraints\n",
      "    raise InvalidParameterError(\n",
      "sklearn.utils._param_validation.InvalidParameterError: The 'loss' parameter of SGDClassifier must be a str among {'huber', 'epsilon_insensitive', 'hinge', 'perceptron', 'modified_huber', 'squared_error', 'log_loss', 'squared_hinge', 'squared_epsilon_insensitive'}. Got 'log' instead.\n",
      "\n",
      "--------------------------------------------------------------------------------\n",
      "35 fits failed with the following error:\n",
      "Traceback (most recent call last):\n",
      "  File \"/home/mateo/miniconda3/envs/py3.10/lib/python3.10/site-packages/sklearn/model_selection/_validation.py\", line 859, in _fit_and_score\n",
      "    estimator.fit(X_train, y_train, **fit_params)\n",
      "  File \"/home/mateo/miniconda3/envs/py3.10/lib/python3.10/site-packages/sklearn/base.py\", line 1365, in wrapper\n",
      "    return fit_method(estimator, *args, **kwargs)\n",
      "  File \"/home/mateo/miniconda3/envs/py3.10/lib/python3.10/site-packages/sklearn/linear_model/_stochastic_gradient.py\", line 918, in fit\n",
      "    self._more_validate_params()\n",
      "  File \"/home/mateo/miniconda3/envs/py3.10/lib/python3.10/site-packages/sklearn/linear_model/_stochastic_gradient.py\", line 150, in _more_validate_params\n",
      "    raise ValueError(\"eta0 must be > 0\")\n",
      "ValueError: eta0 must be > 0\n",
      "\n",
      "  warnings.warn(some_fits_failed_message, FitFailedWarning)\n",
      "/home/mateo/miniconda3/envs/py3.10/lib/python3.10/site-packages/sklearn/model_selection/_search.py:1135: UserWarning: One or more of the test scores are non-finite: [       nan 0.4396956         nan 0.27054657        nan        nan\n",
      "        nan 0.52406116        nan 0.47046233 0.48294568        nan\n",
      "        nan        nan        nan 0.42210843        nan        nan\n",
      " 0.20103022        nan]\n",
      "  warnings.warn(\n"
     ]
    },
    {
     "name": "stdout",
     "output_type": "stream",
     "text": [
      "Mejores Parametros:  {'penalty': 'l2', 'loss': 'hinge', 'learning_rate': 'optimal', 'alpha': 0.01}\n",
      "Mejor Score:  0.5240611594251281\n"
     ]
    }
   ],
   "source": [
    "random_search_SGD_Classifier.fit(bow_train, y_train)\n",
    "\n",
    "print('Mejores Parametros: ', random_search_SGD_Classifier.best_params_)\n",
    "print('Mejor Score: ', random_search_SGD_Classifier.best_score_)"
   ]
  },
  {
   "cell_type": "code",
   "execution_count": 59,
   "id": "3554cbf5",
   "metadata": {},
   "outputs": [],
   "source": [
    "best_model_SGD_Classifier_Bow = random_search_SGD_Classifier.best_estimator_\n",
    "\n",
    "#Evaluar en el et de test\n",
    "preds_cv_SGD_Classifier_Bow = best_model_SGD_Classifier_Bow.predict(bow_test)"
   ]
  },
  {
   "cell_type": "code",
   "execution_count": 60,
   "id": "00b7e954",
   "metadata": {},
   "outputs": [],
   "source": [
    "from sklearn.metrics import accuracy_score, precision_score, recall_score, f1_score, confusion_matrix"
   ]
  },
  {
   "cell_type": "code",
   "execution_count": 64,
   "id": "f0f93f93",
   "metadata": {},
   "outputs": [],
   "source": [
    "accuracy_SGD_Bow = accuracy_score(y_test, preds_cv_SGD_Classifier_Bow)\n",
    "#precission_SGD_Bow = precision_score(y_test, preds_cv_SGD_Classifier_Bow),\n",
    "#recall_SGD_Bow = recall_score(y_test, preds_cv_SGD_Classifier_Bow)\n",
    "#f1_SGD_Bow = f1_score(y_test, preds_cv_SGD_Classifier_Bow)\n",
    "cf_SGD_Bow = confusion_matrix(y_test, preds_cv_SGD_Classifier_Bow)"
   ]
  },
  {
   "cell_type": "code",
   "execution_count": 65,
   "id": "17e25d91",
   "metadata": {},
   "outputs": [
    {
     "name": "stdout",
     "output_type": "stream",
     "text": [
      "accuracy_score:  0.5255521870939801\n",
      "[[ 787  381  268  220  191]\n",
      " [ 353  866  285  251  121]\n",
      " [ 246  305  751  271  293]\n",
      " [ 125  101   90 1141  371]\n",
      " [  98   61  138  213 1309]]\n"
     ]
    }
   ],
   "source": [
    "print('accuracy_score: ', accuracy_SGD_Bow)\n",
    "print(cf_SGD_Bow)"
   ]
  },
  {
   "cell_type": "code",
   "execution_count": 66,
   "id": "d1cf5a4f",
   "metadata": {},
   "outputs": [],
   "source": [
    "from sklearn.metrics import classification_report"
   ]
  },
  {
   "cell_type": "code",
   "execution_count": 67,
   "id": "718b7fd6",
   "metadata": {},
   "outputs": [
    {
     "name": "stdout",
     "output_type": "stream",
     "text": [
      "              precision    recall  f1-score   support\n",
      "\n",
      "           1       0.49      0.43      0.46      1847\n",
      "           2       0.51      0.46      0.48      1876\n",
      "           3       0.49      0.40      0.44      1866\n",
      "           4       0.54      0.62      0.58      1828\n",
      "           5       0.57      0.72      0.64      1819\n",
      "\n",
      "    accuracy                           0.53      9236\n",
      "   macro avg       0.52      0.53      0.52      9236\n",
      "weighted avg       0.52      0.53      0.52      9236\n",
      "\n"
     ]
    }
   ],
   "source": [
    "print(classification_report(y_test, preds_cv_SGD_Classifier_Bow))"
   ]
  }
 ],
 "metadata": {
  "kernelspec": {
   "display_name": "py3.10",
   "language": "python",
   "name": "python3"
  },
  "language_info": {
   "codemirror_mode": {
    "name": "ipython",
    "version": 3
   },
   "file_extension": ".py",
   "mimetype": "text/x-python",
   "name": "python",
   "nbconvert_exporter": "python",
   "pygments_lexer": "ipython3",
   "version": "3.10.18"
  }
 },
 "nbformat": 4,
 "nbformat_minor": 5
}
